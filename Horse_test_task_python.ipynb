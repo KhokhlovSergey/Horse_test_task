{
 "cells": [
  {
   "cell_type": "code",
   "execution_count": null,
   "id": "12cee1ad",
   "metadata": {
    "scrolled": true
   },
   "outputs": [],
   "source": [
    "#!pip install mysql-connector-python"
   ]
  },
  {
   "cell_type": "markdown",
   "id": "8e362cab",
   "metadata": {},
   "source": [
    "**Выполнение тестового задания**\n",
    "\n",
    "Вам нужно написать код на python, который сделает дедубликацию торговых точек. Вы можете использовать свой алгоритм и/или сторонние(внешние) сервисы.\n",
    "Пожалуйста, предоставьте ссылку на репозиторий Github(Bitbucket), где будет находиться Ваш код и конечный результат(SQL таблицы с дедублицированными данными).\n",
    "\n",
    "SQL таблицы - https://drive.google.com/file/d/0B6nelhokQOrRZkMzWHgzSWFBaUE/view\n",
    "\n",
    "    Вам нужно будет заполнить таблицу “outlets_clean” и обновить внешний ключ в таблице “outlets”(колонка outlet_clean_id). Для точек в таблице “outlets”, которые Вы не можете дедублицировать, проставьте в колонке outlet_clean_id значение NULL."
   ]
  },
  {
   "cell_type": "code",
   "execution_count": 1,
   "id": "004d7c84",
   "metadata": {},
   "outputs": [],
   "source": [
    "import mysql.connector\n",
    "from mysql.connector import Error\n",
    "import pymorphy2\n",
    "import pandas as pd\n",
    "import seaborn as sns\n",
    "\n",
    "morph = pymorphy2.MorphAnalyzer()"
   ]
  },
  {
   "cell_type": "markdown",
   "id": "3dfa0911",
   "metadata": {},
   "source": [
    "Функция для подключения к локальному MySQL"
   ]
  },
  {
   "cell_type": "code",
   "execution_count": 2,
   "id": "c3da33fc",
   "metadata": {},
   "outputs": [],
   "source": [
    "def create_connection(host_name, user_name, user_password, db_name):\n",
    "    connection = None\n",
    "    try:\n",
    "        connection = mysql.connector.connect(\n",
    "            host=host_name,\n",
    "            user=user_name,\n",
    "            passwd=user_password,\n",
    "            database=db_name\n",
    "        )\n",
    "        print(\"Connection to MySQL DB successful\")\n",
    "    except Error as e:\n",
    "        print(f\"The error '{e}' occurred\")\n",
    "\n",
    "    return connection"
   ]
  },
  {
   "cell_type": "code",
   "execution_count": 3,
   "id": "5408e53a",
   "metadata": {
    "scrolled": true
   },
   "outputs": [
    {
     "name": "stdout",
     "output_type": "stream",
     "text": [
      "Connection to MySQL DB successful\n"
     ]
    }
   ],
   "source": [
    "connection = create_connection(\"localhost\", \"root\", \"123555\", \"sm_app\")"
   ]
  },
  {
   "cell_type": "markdown",
   "id": "7fd81279",
   "metadata": {},
   "source": [
    "Функция для чтения отношений из бд"
   ]
  },
  {
   "cell_type": "code",
   "execution_count": 4,
   "id": "ce4e4f6d",
   "metadata": {},
   "outputs": [],
   "source": [
    "def execute_read_query(connection, query):\n",
    "    cursor = connection.cursor()\n",
    "    result = None\n",
    "    try:\n",
    "        cursor.execute(query)\n",
    "        result = cursor.fetchall()\n",
    "        return result\n",
    "    except Error as e:\n",
    "        print(f\"The error '{e}' occurred\")"
   ]
  },
  {
   "cell_type": "code",
   "execution_count": 5,
   "id": "0049e5a7",
   "metadata": {
    "scrolled": true
   },
   "outputs": [
    {
     "data": {
      "text/html": [
       "<div>\n",
       "<style scoped>\n",
       "    .dataframe tbody tr th:only-of-type {\n",
       "        vertical-align: middle;\n",
       "    }\n",
       "\n",
       "    .dataframe tbody tr th {\n",
       "        vertical-align: top;\n",
       "    }\n",
       "\n",
       "    .dataframe thead th {\n",
       "        text-align: right;\n",
       "    }\n",
       "</style>\n",
       "<table border=\"1\" class=\"dataframe\">\n",
       "  <thead>\n",
       "    <tr style=\"text-align: right;\">\n",
       "      <th></th>\n",
       "      <th>0</th>\n",
       "      <th>1</th>\n",
       "      <th>2</th>\n",
       "      <th>3</th>\n",
       "      <th>4</th>\n",
       "    </tr>\n",
       "  </thead>\n",
       "  <tbody>\n",
       "    <tr>\n",
       "      <th>0</th>\n",
       "      <td>1</td>\n",
       "      <td>Ростов-на-Дону</td>\n",
       "      <td>ИП Гаврилов С.А.</td>\n",
       "      <td>п.Глубокий, ул.Артёма 44</td>\n",
       "      <td>None</td>\n",
       "    </tr>\n",
       "    <tr>\n",
       "      <th>1</th>\n",
       "      <td>2</td>\n",
       "      <td>Ростов-на-Дону</td>\n",
       "      <td>ИП Малышева</td>\n",
       "      <td>-</td>\n",
       "      <td>None</td>\n",
       "    </tr>\n",
       "    <tr>\n",
       "      <th>2</th>\n",
       "      <td>3</td>\n",
       "      <td>Ростов-на-Дону</td>\n",
       "      <td>Абасян А.П. ИП</td>\n",
       "      <td>он же</td>\n",
       "      <td>None</td>\n",
       "    </tr>\n",
       "    <tr>\n",
       "      <th>3</th>\n",
       "      <td>4</td>\n",
       "      <td>Ростов-на-Дону</td>\n",
       "      <td>Азатян Н,С. ИП ул. Ленина</td>\n",
       "      <td>он же</td>\n",
       "      <td>None</td>\n",
       "    </tr>\n",
       "    <tr>\n",
       "      <th>4</th>\n",
       "      <td>5</td>\n",
       "      <td>Ростов-на-Дону</td>\n",
       "      <td>Айдинов В.Я.</td>\n",
       "      <td>он же</td>\n",
       "      <td>None</td>\n",
       "    </tr>\n",
       "  </tbody>\n",
       "</table>\n",
       "</div>"
      ],
      "text/plain": [
       "   0               1                          2                         3  \\\n",
       "0  1  Ростов-на-Дону           ИП Гаврилов С.А.  п.Глубокий, ул.Артёма 44   \n",
       "1  2  Ростов-на-Дону                ИП Малышева                         -   \n",
       "2  3  Ростов-на-Дону             Абасян А.П. ИП                     он же   \n",
       "3  4  Ростов-на-Дону  Азатян Н,С. ИП ул. Ленина                     он же   \n",
       "4  5  Ростов-на-Дону               Айдинов В.Я.                     он же   \n",
       "\n",
       "      4  \n",
       "0  None  \n",
       "1  None  \n",
       "2  None  \n",
       "3  None  \n",
       "4  None  "
      ]
     },
     "execution_count": 5,
     "metadata": {},
     "output_type": "execute_result"
    }
   ],
   "source": [
    "select_outlets = \"SELECT * FROM outlets\"\n",
    "string_df = execute_read_query(connection, select_outlets)\n",
    "df_outline = pd.DataFrame(string_df)\n",
    "df_outline[:5]"
   ]
  },
  {
   "cell_type": "code",
   "execution_count": 6,
   "id": "8d1020fa",
   "metadata": {},
   "outputs": [],
   "source": [
    "df_outline.columns = ['id', 'city', 'name', 'address', 'outlets_clean']"
   ]
  },
  {
   "cell_type": "code",
   "execution_count": 7,
   "id": "9d855caf",
   "metadata": {
    "scrolled": true
   },
   "outputs": [
    {
     "data": {
      "text/html": [
       "<div>\n",
       "<style scoped>\n",
       "    .dataframe tbody tr th:only-of-type {\n",
       "        vertical-align: middle;\n",
       "    }\n",
       "\n",
       "    .dataframe tbody tr th {\n",
       "        vertical-align: top;\n",
       "    }\n",
       "\n",
       "    .dataframe thead th {\n",
       "        text-align: right;\n",
       "    }\n",
       "</style>\n",
       "<table border=\"1\" class=\"dataframe\">\n",
       "  <thead>\n",
       "    <tr style=\"text-align: right;\">\n",
       "      <th></th>\n",
       "      <th>id</th>\n",
       "      <th>city</th>\n",
       "      <th>name</th>\n",
       "      <th>address</th>\n",
       "      <th>outlets_clean</th>\n",
       "    </tr>\n",
       "  </thead>\n",
       "  <tbody>\n",
       "    <tr>\n",
       "      <th>0</th>\n",
       "      <td>1</td>\n",
       "      <td>Ростов-на-Дону</td>\n",
       "      <td>ИП Гаврилов С.А.</td>\n",
       "      <td>п.Глубокий, ул.Артёма 44</td>\n",
       "      <td>None</td>\n",
       "    </tr>\n",
       "    <tr>\n",
       "      <th>1</th>\n",
       "      <td>2</td>\n",
       "      <td>Ростов-на-Дону</td>\n",
       "      <td>ИП Малышева</td>\n",
       "      <td>-</td>\n",
       "      <td>None</td>\n",
       "    </tr>\n",
       "    <tr>\n",
       "      <th>2</th>\n",
       "      <td>3</td>\n",
       "      <td>Ростов-на-Дону</td>\n",
       "      <td>Абасян А.П. ИП</td>\n",
       "      <td>он же</td>\n",
       "      <td>None</td>\n",
       "    </tr>\n",
       "    <tr>\n",
       "      <th>3</th>\n",
       "      <td>4</td>\n",
       "      <td>Ростов-на-Дону</td>\n",
       "      <td>Азатян Н,С. ИП ул. Ленина</td>\n",
       "      <td>он же</td>\n",
       "      <td>None</td>\n",
       "    </tr>\n",
       "    <tr>\n",
       "      <th>4</th>\n",
       "      <td>5</td>\n",
       "      <td>Ростов-на-Дону</td>\n",
       "      <td>Айдинов В.Я.</td>\n",
       "      <td>он же</td>\n",
       "      <td>None</td>\n",
       "    </tr>\n",
       "  </tbody>\n",
       "</table>\n",
       "</div>"
      ],
      "text/plain": [
       "   id            city                       name                   address  \\\n",
       "0   1  Ростов-на-Дону           ИП Гаврилов С.А.  п.Глубокий, ул.Артёма 44   \n",
       "1   2  Ростов-на-Дону                ИП Малышева                         -   \n",
       "2   3  Ростов-на-Дону             Абасян А.П. ИП                     он же   \n",
       "3   4  Ростов-на-Дону  Азатян Н,С. ИП ул. Ленина                     он же   \n",
       "4   5  Ростов-на-Дону               Айдинов В.Я.                     он же   \n",
       "\n",
       "  outlets_clean  \n",
       "0          None  \n",
       "1          None  \n",
       "2          None  \n",
       "3          None  \n",
       "4          None  "
      ]
     },
     "execution_count": 7,
     "metadata": {},
     "output_type": "execute_result"
    }
   ],
   "source": [
    "df_outline[:5]"
   ]
  },
  {
   "cell_type": "code",
   "execution_count": 8,
   "id": "0378d246",
   "metadata": {
    "scrolled": false
   },
   "outputs": [
    {
     "name": "stdout",
     "output_type": "stream",
     "text": [
      "<class 'pandas.core.frame.DataFrame'>\n",
      "RangeIndex: 20208 entries, 0 to 20207\n",
      "Data columns (total 5 columns):\n",
      " #   Column         Non-Null Count  Dtype \n",
      "---  ------         --------------  ----- \n",
      " 0   id             20208 non-null  int64 \n",
      " 1   city           20208 non-null  object\n",
      " 2   name           20208 non-null  object\n",
      " 3   address        20208 non-null  object\n",
      " 4   outlets_clean  0 non-null      object\n",
      "dtypes: int64(1), object(4)\n",
      "memory usage: 789.5+ KB\n"
     ]
    }
   ],
   "source": [
    "df_outline.info()"
   ]
  },
  {
   "cell_type": "markdown",
   "id": "e93fccd2",
   "metadata": {},
   "source": [
    "Проверка на явные дубликаты"
   ]
  },
  {
   "cell_type": "code",
   "execution_count": 9,
   "id": "ed092954",
   "metadata": {
    "scrolled": true
   },
   "outputs": [
    {
     "data": {
      "text/plain": [
       "3269"
      ]
     },
     "execution_count": 9,
     "metadata": {},
     "output_type": "execute_result"
    }
   ],
   "source": [
    "df_outline[['name', 'city', 'address']].duplicated().sum()"
   ]
  },
  {
   "cell_type": "markdown",
   "id": "d5bbc352",
   "metadata": {},
   "source": [
    "Как минимум у нас 3269 явных дубликатов"
   ]
  },
  {
   "cell_type": "code",
   "execution_count": 10,
   "id": "dbe02407",
   "metadata": {
    "scrolled": false
   },
   "outputs": [
    {
     "data": {
      "text/html": [
       "<div>\n",
       "<style scoped>\n",
       "    .dataframe tbody tr th:only-of-type {\n",
       "        vertical-align: middle;\n",
       "    }\n",
       "\n",
       "    .dataframe tbody tr th {\n",
       "        vertical-align: top;\n",
       "    }\n",
       "\n",
       "    .dataframe thead th {\n",
       "        text-align: right;\n",
       "    }\n",
       "</style>\n",
       "<table border=\"1\" class=\"dataframe\">\n",
       "  <thead>\n",
       "    <tr style=\"text-align: right;\">\n",
       "      <th></th>\n",
       "      <th>id</th>\n",
       "      <th>city</th>\n",
       "      <th>name</th>\n",
       "      <th>address</th>\n",
       "      <th>outlets_clean</th>\n",
       "    </tr>\n",
       "  </thead>\n",
       "  <tbody>\n",
       "    <tr>\n",
       "      <th>66</th>\n",
       "      <td>67</td>\n",
       "      <td>Ростов-на-Дону</td>\n",
       "      <td>Виноградова</td>\n",
       "      <td>г.Батайск,Авиагородок</td>\n",
       "      <td>None</td>\n",
       "    </tr>\n",
       "    <tr>\n",
       "      <th>18536</th>\n",
       "      <td>18537</td>\n",
       "      <td>Ростов-на-Дону</td>\n",
       "      <td>Каскад ООО</td>\n",
       "      <td>347413, Ростовская обл, Дубовский р-н, Андреев...</td>\n",
       "      <td>None</td>\n",
       "    </tr>\n",
       "    <tr>\n",
       "      <th>18525</th>\n",
       "      <td>18526</td>\n",
       "      <td>Ростов-на-Дону</td>\n",
       "      <td>Карманов С.А. ИП Большой пр-кт,48</td>\n",
       "      <td>347930, Ростовская обл, Таганрог г, Большой пр...</td>\n",
       "      <td>None</td>\n",
       "    </tr>\n",
       "    <tr>\n",
       "      <th>18527</th>\n",
       "      <td>18528</td>\n",
       "      <td>Ростов-на-Дону</td>\n",
       "      <td>Карпов А.С.ИП</td>\n",
       "      <td>-</td>\n",
       "      <td>None</td>\n",
       "    </tr>\n",
       "    <tr>\n",
       "      <th>18528</th>\n",
       "      <td>18529</td>\n",
       "      <td>Ростов-на-Дону</td>\n",
       "      <td>Карпов Г.А. ИП</td>\n",
       "      <td>347042, Ростовская обл, Белая Калитва г, Калин...</td>\n",
       "      <td>None</td>\n",
       "    </tr>\n",
       "    <tr>\n",
       "      <th>...</th>\n",
       "      <td>...</td>\n",
       "      <td>...</td>\n",
       "      <td>...</td>\n",
       "      <td>...</td>\n",
       "      <td>...</td>\n",
       "    </tr>\n",
       "    <tr>\n",
       "      <th>10200</th>\n",
       "      <td>10201</td>\n",
       "      <td>Ростов-на-Дону</td>\n",
       "      <td>Саркисян С А</td>\n",
       "      <td>-</td>\n",
       "      <td>None</td>\n",
       "    </tr>\n",
       "    <tr>\n",
       "      <th>10202</th>\n",
       "      <td>10203</td>\n",
       "      <td>Ростов-на-Дону</td>\n",
       "      <td>Саркисян С.А.</td>\n",
       "      <td>г.Ростов-на-Дону Забайкальский 4</td>\n",
       "      <td>None</td>\n",
       "    </tr>\n",
       "    <tr>\n",
       "      <th>10203</th>\n",
       "      <td>10204</td>\n",
       "      <td>Ростов-на-Дону</td>\n",
       "      <td>Саркисян С.А.</td>\n",
       "      <td>г.Ростов-на-Дону Забайкальский 4</td>\n",
       "      <td>None</td>\n",
       "    </tr>\n",
       "    <tr>\n",
       "      <th>10208</th>\n",
       "      <td>10209</td>\n",
       "      <td>Ростов-на-Дону</td>\n",
       "      <td>Свиридова Л А ИП</td>\n",
       "      <td>-</td>\n",
       "      <td>None</td>\n",
       "    </tr>\n",
       "    <tr>\n",
       "      <th>20206</th>\n",
       "      <td>20207</td>\n",
       "      <td>Ростов-на-Дону</td>\n",
       "      <td>Яхонов Б.А. ИП</td>\n",
       "      <td>346380, Ростовская обл, Красносулинский р-н, Л...</td>\n",
       "      <td>None</td>\n",
       "    </tr>\n",
       "  </tbody>\n",
       "</table>\n",
       "<p>3269 rows × 5 columns</p>\n",
       "</div>"
      ],
      "text/plain": [
       "          id            city                               name  \\\n",
       "66        67  Ростов-на-Дону                        Виноградова   \n",
       "18536  18537  Ростов-на-Дону                         Каскад ООО   \n",
       "18525  18526  Ростов-на-Дону  Карманов С.А. ИП Большой пр-кт,48   \n",
       "18527  18528  Ростов-на-Дону                      Карпов А.С.ИП   \n",
       "18528  18529  Ростов-на-Дону                     Карпов Г.А. ИП   \n",
       "...      ...             ...                                ...   \n",
       "10200  10201  Ростов-на-Дону                       Саркисян С А   \n",
       "10202  10203  Ростов-на-Дону                      Саркисян С.А.   \n",
       "10203  10204  Ростов-на-Дону                      Саркисян С.А.   \n",
       "10208  10209  Ростов-на-Дону                   Свиридова Л А ИП   \n",
       "20206  20207  Ростов-на-Дону                     Яхонов Б.А. ИП   \n",
       "\n",
       "                                                 address outlets_clean  \n",
       "66                                 г.Батайск,Авиагородок          None  \n",
       "18536  347413, Ростовская обл, Дубовский р-н, Андреев...          None  \n",
       "18525  347930, Ростовская обл, Таганрог г, Большой пр...          None  \n",
       "18527                                                  -          None  \n",
       "18528  347042, Ростовская обл, Белая Калитва г, Калин...          None  \n",
       "...                                                  ...           ...  \n",
       "10200                                                  -          None  \n",
       "10202                   г.Ростов-на-Дону Забайкальский 4          None  \n",
       "10203                   г.Ростов-на-Дону Забайкальский 4          None  \n",
       "10208                                                  -          None  \n",
       "20206  346380, Ростовская обл, Красносулинский р-н, Л...          None  \n",
       "\n",
       "[3269 rows x 5 columns]"
      ]
     },
     "execution_count": 10,
     "metadata": {},
     "output_type": "execute_result"
    }
   ],
   "source": [
    "df_outline.loc[df_outline[['name', 'city', 'address']].duplicated()].sort_values(by='city' ,ascending=False)"
   ]
  },
  {
   "cell_type": "code",
   "execution_count": 11,
   "id": "e63557b2",
   "metadata": {},
   "outputs": [
    {
     "data": {
      "text/plain": [
       "array(['Ростов-на-Дону'], dtype=object)"
      ]
     },
     "execution_count": 11,
     "metadata": {},
     "output_type": "execute_result"
    }
   ],
   "source": [
    "df_outline['city'].unique()"
   ]
  },
  {
   "cell_type": "markdown",
   "id": "88183690",
   "metadata": {},
   "source": [
    "Выборка производится по одному городу, на него можно не смотреть."
   ]
  },
  {
   "cell_type": "code",
   "execution_count": 12,
   "id": "e0e83d55",
   "metadata": {},
   "outputs": [
    {
     "data": {
      "text/plain": [
       "7414"
      ]
     },
     "metadata": {},
     "output_type": "display_data"
    },
    {
     "data": {
      "text/plain": [
       "11075"
      ]
     },
     "execution_count": 12,
     "metadata": {},
     "output_type": "execute_result"
    }
   ],
   "source": [
    "display(len(df_outline['address'].unique()))\n",
    "len(df_outline['name'].unique())\n"
   ]
  },
  {
   "cell_type": "markdown",
   "id": "cbc41cf4",
   "metadata": {},
   "source": [
    "Количество уникальных значений в адресах и именах"
   ]
  },
  {
   "cell_type": "code",
   "execution_count": 13,
   "id": "a4b6fbe0",
   "metadata": {},
   "outputs": [
    {
     "data": {
      "text/plain": [
       "7403"
      ]
     },
     "metadata": {},
     "output_type": "display_data"
    },
    {
     "data": {
      "text/plain": [
       "10936"
      ]
     },
     "execution_count": 13,
     "metadata": {},
     "output_type": "execute_result"
    }
   ],
   "source": [
    "df_outline['address'] = df_outline['address'].str.lower()\n",
    "df_outline['name'] = df_outline['name'].str.lower()\n",
    "display(len(df_outline['address'].unique()))\n",
    "len(df_outline['name'].unique())"
   ]
  },
  {
   "cell_type": "markdown",
   "id": "9bf48a16",
   "metadata": {},
   "source": [
    "Нашли небольшое кол-во неявных дубликатов."
   ]
  },
  {
   "cell_type": "markdown",
   "id": "2b084844",
   "metadata": {},
   "source": [
    "Приведем слова к начальной форме и попробуем найти еще больше неявных дубликатов."
   ]
  },
  {
   "cell_type": "code",
   "execution_count": 14,
   "id": "39dcbdf9",
   "metadata": {},
   "outputs": [],
   "source": [
    "def lem_function(text):\n",
    "    normal_word = ''\n",
    "    for word in text.split(' '):\n",
    "        p = morph.parse(word)[0]  # делаем разбор\n",
    "        normal_word += p.normal_form + ' '\n",
    "    return normal_word.strip()"
   ]
  },
  {
   "cell_type": "code",
   "execution_count": 15,
   "id": "115d87bf",
   "metadata": {
    "scrolled": true
   },
   "outputs": [
    {
     "data": {
      "text/plain": [
       "7403"
      ]
     },
     "metadata": {},
     "output_type": "display_data"
    },
    {
     "data": {
      "text/plain": [
       "10932"
      ]
     },
     "execution_count": 15,
     "metadata": {},
     "output_type": "execute_result"
    }
   ],
   "source": [
    "#'это долго'\n",
    "df_outline['address'] = df_outline['address'].apply(lem_function)\n",
    "df_outline['name'] = df_outline['name'].apply(lem_function)\n",
    "display(len(df_outline['address'].unique()))\n",
    "len(df_outline['name'].unique())"
   ]
  },
  {
   "cell_type": "markdown",
   "id": "44e7e2e1",
   "metadata": {},
   "source": [
    "Нашли еще четыре дубликата"
   ]
  },
  {
   "cell_type": "code",
   "execution_count": 16,
   "id": "8dd52ca3",
   "metadata": {
    "scrolled": true
   },
   "outputs": [
    {
     "data": {
      "text/html": [
       "<div>\n",
       "<style scoped>\n",
       "    .dataframe tbody tr th:only-of-type {\n",
       "        vertical-align: middle;\n",
       "    }\n",
       "\n",
       "    .dataframe tbody tr th {\n",
       "        vertical-align: top;\n",
       "    }\n",
       "\n",
       "    .dataframe thead th {\n",
       "        text-align: right;\n",
       "    }\n",
       "</style>\n",
       "<table border=\"1\" class=\"dataframe\">\n",
       "  <thead>\n",
       "    <tr style=\"text-align: right;\">\n",
       "      <th></th>\n",
       "      <th>id</th>\n",
       "      <th>city</th>\n",
       "      <th>name</th>\n",
       "      <th>address</th>\n",
       "      <th>outlets_clean</th>\n",
       "    </tr>\n",
       "  </thead>\n",
       "  <tbody>\n",
       "    <tr>\n",
       "      <th>0</th>\n",
       "      <td>1</td>\n",
       "      <td>Ростов-на-Дону</td>\n",
       "      <td>ип гаврил с.а.</td>\n",
       "      <td>п.глубокий, ул.артём 44</td>\n",
       "      <td>None</td>\n",
       "    </tr>\n",
       "    <tr>\n",
       "      <th>1</th>\n",
       "      <td>2</td>\n",
       "      <td>Ростов-на-Дону</td>\n",
       "      <td>ип малышев</td>\n",
       "      <td>-</td>\n",
       "      <td>None</td>\n",
       "    </tr>\n",
       "    <tr>\n",
       "      <th>2</th>\n",
       "      <td>3</td>\n",
       "      <td>Ростов-на-Дону</td>\n",
       "      <td>абасян а.п. ип</td>\n",
       "      <td>он же</td>\n",
       "      <td>None</td>\n",
       "    </tr>\n",
       "    <tr>\n",
       "      <th>3</th>\n",
       "      <td>4</td>\n",
       "      <td>Ростов-на-Дону</td>\n",
       "      <td>азатян н,с. ип ул. ленин</td>\n",
       "      <td>он же</td>\n",
       "      <td>None</td>\n",
       "    </tr>\n",
       "    <tr>\n",
       "      <th>4</th>\n",
       "      <td>5</td>\n",
       "      <td>Ростов-на-Дону</td>\n",
       "      <td>айдин в.я.</td>\n",
       "      <td>он же</td>\n",
       "      <td>None</td>\n",
       "    </tr>\n",
       "    <tr>\n",
       "      <th>...</th>\n",
       "      <td>...</td>\n",
       "      <td>...</td>\n",
       "      <td>...</td>\n",
       "      <td>...</td>\n",
       "      <td>...</td>\n",
       "    </tr>\n",
       "    <tr>\n",
       "      <th>20203</th>\n",
       "      <td>20204</td>\n",
       "      <td>Ростов-на-Дону</td>\n",
       "      <td>яров а.т.ип</td>\n",
       "      <td>346535, ростовский обл, шахта г, кошевой ул, д...</td>\n",
       "      <td>None</td>\n",
       "    </tr>\n",
       "    <tr>\n",
       "      <th>20204</th>\n",
       "      <td>20205</td>\n",
       "      <td>Ростов-на-Дону</td>\n",
       "      <td>яров в.т. ип м-н \"весна\"</td>\n",
       "      <td>-</td>\n",
       "      <td>None</td>\n",
       "    </tr>\n",
       "    <tr>\n",
       "      <th>20205</th>\n",
       "      <td>20206</td>\n",
       "      <td>Ростов-на-Дону</td>\n",
       "      <td>ярута с.м. ип</td>\n",
       "      <td>347332, ростовский область, волгодонский р-н, ...</td>\n",
       "      <td>None</td>\n",
       "    </tr>\n",
       "    <tr>\n",
       "      <th>20206</th>\n",
       "      <td>20207</td>\n",
       "      <td>Ростов-на-Дону</td>\n",
       "      <td>яхон б.а. ип</td>\n",
       "      <td>346380, ростовский обл, красносулинский р-н, л...</td>\n",
       "      <td>None</td>\n",
       "    </tr>\n",
       "    <tr>\n",
       "      <th>20207</th>\n",
       "      <td>20208</td>\n",
       "      <td>Ростов-на-Дону</td>\n",
       "      <td>яцкевич е.ю.ип</td>\n",
       "      <td>344002, ростовский обл, ростов-на-дону г, шосс...</td>\n",
       "      <td>None</td>\n",
       "    </tr>\n",
       "  </tbody>\n",
       "</table>\n",
       "<p>20208 rows × 5 columns</p>\n",
       "</div>"
      ],
      "text/plain": [
       "          id            city                      name  \\\n",
       "0          1  Ростов-на-Дону            ип гаврил с.а.   \n",
       "1          2  Ростов-на-Дону                ип малышев   \n",
       "2          3  Ростов-на-Дону            абасян а.п. ип   \n",
       "3          4  Ростов-на-Дону  азатян н,с. ип ул. ленин   \n",
       "4          5  Ростов-на-Дону                айдин в.я.   \n",
       "...      ...             ...                       ...   \n",
       "20203  20204  Ростов-на-Дону               яров а.т.ип   \n",
       "20204  20205  Ростов-на-Дону  яров в.т. ип м-н \"весна\"   \n",
       "20205  20206  Ростов-на-Дону             ярута с.м. ип   \n",
       "20206  20207  Ростов-на-Дону              яхон б.а. ип   \n",
       "20207  20208  Ростов-на-Дону            яцкевич е.ю.ип   \n",
       "\n",
       "                                                 address outlets_clean  \n",
       "0                                п.глубокий, ул.артём 44          None  \n",
       "1                                                      -          None  \n",
       "2                                                  он же          None  \n",
       "3                                                  он же          None  \n",
       "4                                                  он же          None  \n",
       "...                                                  ...           ...  \n",
       "20203  346535, ростовский обл, шахта г, кошевой ул, д...          None  \n",
       "20204                                                  -          None  \n",
       "20205  347332, ростовский область, волгодонский р-н, ...          None  \n",
       "20206  346380, ростовский обл, красносулинский р-н, л...          None  \n",
       "20207  344002, ростовский обл, ростов-на-дону г, шосс...          None  \n",
       "\n",
       "[20208 rows x 5 columns]"
      ]
     },
     "execution_count": 16,
     "metadata": {},
     "output_type": "execute_result"
    }
   ],
   "source": [
    "df_outline"
   ]
  },
  {
   "cell_type": "markdown",
   "id": "21f84406",
   "metadata": {},
   "source": [
    "Запишем айди уникальных значений в outlets_clean"
   ]
  },
  {
   "cell_type": "code",
   "execution_count": 17,
   "id": "c6f3c45d",
   "metadata": {},
   "outputs": [],
   "source": [
    "df_outline = df_outline.sort_values(by=['name', 'address'])"
   ]
  },
  {
   "cell_type": "code",
   "execution_count": 18,
   "id": "aef658d9",
   "metadata": {},
   "outputs": [
    {
     "data": {
      "text/html": [
       "<div>\n",
       "<style scoped>\n",
       "    .dataframe tbody tr th:only-of-type {\n",
       "        vertical-align: middle;\n",
       "    }\n",
       "\n",
       "    .dataframe tbody tr th {\n",
       "        vertical-align: top;\n",
       "    }\n",
       "\n",
       "    .dataframe thead th {\n",
       "        text-align: right;\n",
       "    }\n",
       "</style>\n",
       "<table border=\"1\" class=\"dataframe\">\n",
       "  <thead>\n",
       "    <tr style=\"text-align: right;\">\n",
       "      <th></th>\n",
       "      <th>name</th>\n",
       "      <th>address</th>\n",
       "    </tr>\n",
       "  </thead>\n",
       "  <tbody>\n",
       "    <tr>\n",
       "      <th>100</th>\n",
       "      <td>гридин н.а. ип</td>\n",
       "      <td>он же</td>\n",
       "    </tr>\n",
       "    <tr>\n",
       "      <th>12467</th>\n",
       "      <td>гридин н.а. ип садовая, 48</td>\n",
       "      <td>-</td>\n",
       "    </tr>\n",
       "    <tr>\n",
       "      <th>12468</th>\n",
       "      <td>гридин н.а. ип садовая, 48</td>\n",
       "      <td>347850, ростовский обл, каменский р-н, глубоки...</td>\n",
       "    </tr>\n",
       "    <tr>\n",
       "      <th>18116</th>\n",
       "      <td>гридин н.а. ип садовая, 48</td>\n",
       "      <td>347850, ростовский обл, каменский р-н, глубоки...</td>\n",
       "    </tr>\n",
       "    <tr>\n",
       "      <th>101</th>\n",
       "      <td>гридин н.а. ип садовая, 48</td>\n",
       "      <td>он же</td>\n",
       "    </tr>\n",
       "    <tr>\n",
       "      <th>12470</th>\n",
       "      <td>гриневич в.м. ип ул.фрунзе/маяковского, 68/58</td>\n",
       "      <td>346400, ростовский обл, новочеркасск г, первом...</td>\n",
       "    </tr>\n",
       "    <tr>\n",
       "      <th>12471</th>\n",
       "      <td>гриненко т.в. ип</td>\n",
       "      <td>359010, калмыкия респ, яшалтинский р-н, яшалта...</td>\n",
       "    </tr>\n",
       "    <tr>\n",
       "      <th>18118</th>\n",
       "      <td>гриненко т.в. ип</td>\n",
       "      <td>359010, калмыкия респ, яшалтинский р-н, яшалта...</td>\n",
       "    </tr>\n",
       "    <tr>\n",
       "      <th>1992</th>\n",
       "      <td>гринь</td>\n",
       "      <td>-</td>\n",
       "    </tr>\n",
       "    <tr>\n",
       "      <th>12469</th>\n",
       "      <td>гринёв г.л.ип</td>\n",
       "      <td>346061, ростовский обл, тарасовский р-н, марты...</td>\n",
       "    </tr>\n",
       "    <tr>\n",
       "      <th>18117</th>\n",
       "      <td>гринёв г.л.ип</td>\n",
       "      <td>346061, ростовский обл, тарасовский р-н, марты...</td>\n",
       "    </tr>\n",
       "    <tr>\n",
       "      <th>12472</th>\n",
       "      <td>грицай с.а.ип</td>\n",
       "      <td>-</td>\n",
       "    </tr>\n",
       "    <tr>\n",
       "      <th>17185</th>\n",
       "      <td>грицеляк с.в., флп, маг. \"продукты\", г. донецк</td>\n",
       "      <td>-</td>\n",
       "    </tr>\n",
       "    <tr>\n",
       "      <th>12473</th>\n",
       "      <td>гриценко н.и. ип</td>\n",
       "      <td>-</td>\n",
       "    </tr>\n",
       "    <tr>\n",
       "      <th>12474</th>\n",
       "      <td>гриценко н.и. ип</td>\n",
       "      <td>346611, ростовский обл, багаевский ст-ца, мичу...</td>\n",
       "    </tr>\n",
       "    <tr>\n",
       "      <th>18119</th>\n",
       "      <td>гриценко н.и. ип</td>\n",
       "      <td>346611, ростовский обл, багаевский ст-ца, мичу...</td>\n",
       "    </tr>\n",
       "    <tr>\n",
       "      <th>12475</th>\n",
       "      <td>гриценко н.и. ип</td>\n",
       "      <td>346611, ростовский обл, багаевский ст-ца, цент...</td>\n",
       "    </tr>\n",
       "    <tr>\n",
       "      <th>17186</th>\n",
       "      <td>гришакова л.г. флп, зугрес</td>\n",
       "      <td>-</td>\n",
       "    </tr>\n",
       "    <tr>\n",
       "      <th>12476</th>\n",
       "      <td>гришин в.н. ип</td>\n",
       "      <td>-</td>\n",
       "    </tr>\n",
       "    <tr>\n",
       "      <th>12477</th>\n",
       "      <td>гришин в.н. ип</td>\n",
       "      <td>347880, ростовский обл, гуково г, красный горк...</td>\n",
       "    </tr>\n",
       "  </tbody>\n",
       "</table>\n",
       "</div>"
      ],
      "text/plain": [
       "                                                 name  \\\n",
       "100                                    гридин н.а. ип   \n",
       "12467                      гридин н.а. ип садовая, 48   \n",
       "12468                      гридин н.а. ип садовая, 48   \n",
       "18116                      гридин н.а. ип садовая, 48   \n",
       "101                        гридин н.а. ип садовая, 48   \n",
       "12470   гриневич в.м. ип ул.фрунзе/маяковского, 68/58   \n",
       "12471                                гриненко т.в. ип   \n",
       "18118                                гриненко т.в. ип   \n",
       "1992                                            гринь   \n",
       "12469                                   гринёв г.л.ип   \n",
       "18117                                   гринёв г.л.ип   \n",
       "12472                                   грицай с.а.ип   \n",
       "17185  грицеляк с.в., флп, маг. \"продукты\", г. донецк   \n",
       "12473                                гриценко н.и. ип   \n",
       "12474                                гриценко н.и. ип   \n",
       "18119                                гриценко н.и. ип   \n",
       "12475                                гриценко н.и. ип   \n",
       "17186                      гришакова л.г. флп, зугрес   \n",
       "12476                                  гришин в.н. ип   \n",
       "12477                                  гришин в.н. ип   \n",
       "\n",
       "                                                 address  \n",
       "100                                                он же  \n",
       "12467                                                  -  \n",
       "12468  347850, ростовский обл, каменский р-н, глубоки...  \n",
       "18116  347850, ростовский обл, каменский р-н, глубоки...  \n",
       "101                                                он же  \n",
       "12470  346400, ростовский обл, новочеркасск г, первом...  \n",
       "12471  359010, калмыкия респ, яшалтинский р-н, яшалта...  \n",
       "18118  359010, калмыкия респ, яшалтинский р-н, яшалта...  \n",
       "1992                                                   -  \n",
       "12469  346061, ростовский обл, тарасовский р-н, марты...  \n",
       "18117  346061, ростовский обл, тарасовский р-н, марты...  \n",
       "12472                                                  -  \n",
       "17185                                                  -  \n",
       "12473                                                  -  \n",
       "12474  346611, ростовский обл, багаевский ст-ца, мичу...  \n",
       "18119  346611, ростовский обл, багаевский ст-ца, мичу...  \n",
       "12475  346611, ростовский обл, багаевский ст-ца, цент...  \n",
       "17186                                                  -  \n",
       "12476                                                  -  \n",
       "12477  347880, ростовский обл, гуково г, красный горк...  "
      ]
     },
     "execution_count": 18,
     "metadata": {},
     "output_type": "execute_result"
    }
   ],
   "source": [
    "df_outline.loc[100:150][['name', 'address']].head(20)"
   ]
  },
  {
   "cell_type": "markdown",
   "id": "6ba839d0",
   "metadata": {},
   "source": [
    "В таблице присутствует такое значение адреса как \"он же\". По хорошему за такое руки бы отрывать. Будем исходить из предположения о том, что предыдущий адрес соответствует адресу в строке \"он же\"."
   ]
  },
  {
   "cell_type": "code",
   "execution_count": 19,
   "id": "d85c382c",
   "metadata": {
    "scrolled": true
   },
   "outputs": [
    {
     "data": {
      "text/html": [
       "<div>\n",
       "<style scoped>\n",
       "    .dataframe tbody tr th:only-of-type {\n",
       "        vertical-align: middle;\n",
       "    }\n",
       "\n",
       "    .dataframe tbody tr th {\n",
       "        vertical-align: top;\n",
       "    }\n",
       "\n",
       "    .dataframe thead th {\n",
       "        text-align: right;\n",
       "    }\n",
       "</style>\n",
       "<table border=\"1\" class=\"dataframe\">\n",
       "  <thead>\n",
       "    <tr style=\"text-align: right;\">\n",
       "      <th></th>\n",
       "      <th>id</th>\n",
       "      <th>city</th>\n",
       "      <th>name</th>\n",
       "      <th>address</th>\n",
       "      <th>outlets_clean</th>\n",
       "    </tr>\n",
       "  </thead>\n",
       "  <tbody>\n",
       "    <tr>\n",
       "      <th>2</th>\n",
       "      <td>3</td>\n",
       "      <td>Ростов-на-Дону</td>\n",
       "      <td>абасян а.п. ип</td>\n",
       "      <td>он же</td>\n",
       "      <td>None</td>\n",
       "    </tr>\n",
       "    <tr>\n",
       "      <th>3</th>\n",
       "      <td>4</td>\n",
       "      <td>Ростов-на-Дону</td>\n",
       "      <td>азатян н,с. ип ул. ленин</td>\n",
       "      <td>он же</td>\n",
       "      <td>None</td>\n",
       "    </tr>\n",
       "    <tr>\n",
       "      <th>4</th>\n",
       "      <td>5</td>\n",
       "      <td>Ростов-на-Дону</td>\n",
       "      <td>айдин в.я.</td>\n",
       "      <td>он же</td>\n",
       "      <td>None</td>\n",
       "    </tr>\n",
       "    <tr>\n",
       "      <th>6</th>\n",
       "      <td>7</td>\n",
       "      <td>Ростов-на-Дону</td>\n",
       "      <td>алексеев л п ип</td>\n",
       "      <td>он же</td>\n",
       "      <td>None</td>\n",
       "    </tr>\n",
       "    <tr>\n",
       "      <th>8</th>\n",
       "      <td>9</td>\n",
       "      <td>Ростов-на-Дону</td>\n",
       "      <td>алпатов в в ип</td>\n",
       "      <td>он же</td>\n",
       "      <td>None</td>\n",
       "    </tr>\n",
       "    <tr>\n",
       "      <th>...</th>\n",
       "      <td>...</td>\n",
       "      <td>...</td>\n",
       "      <td>...</td>\n",
       "      <td>...</td>\n",
       "      <td>...</td>\n",
       "    </tr>\n",
       "    <tr>\n",
       "      <th>1025</th>\n",
       "      <td>1026</td>\n",
       "      <td>Ростов-на-Дону</td>\n",
       "      <td>яковлев а.в. ип</td>\n",
       "      <td>он же</td>\n",
       "      <td>None</td>\n",
       "    </tr>\n",
       "    <tr>\n",
       "      <th>1026</th>\n",
       "      <td>1027</td>\n",
       "      <td>Ростов-на-Дону</td>\n",
       "      <td>якубенко м.с. ип</td>\n",
       "      <td>он же</td>\n",
       "      <td>None</td>\n",
       "    </tr>\n",
       "    <tr>\n",
       "      <th>1027</th>\n",
       "      <td>1028</td>\n",
       "      <td>Ростов-на-Дону</td>\n",
       "      <td>ярмоновый н.г.ип</td>\n",
       "      <td>он же</td>\n",
       "      <td>None</td>\n",
       "    </tr>\n",
       "    <tr>\n",
       "      <th>1029</th>\n",
       "      <td>1030</td>\n",
       "      <td>Ростов-на-Дону</td>\n",
       "      <td>яров в.т. ип м-н \"весна\"</td>\n",
       "      <td>он же</td>\n",
       "      <td>None</td>\n",
       "    </tr>\n",
       "    <tr>\n",
       "      <th>1030</th>\n",
       "      <td>1031</td>\n",
       "      <td>Ростов-на-Дону</td>\n",
       "      <td>яхон б.а. ип</td>\n",
       "      <td>он же</td>\n",
       "      <td>None</td>\n",
       "    </tr>\n",
       "  </tbody>\n",
       "</table>\n",
       "<p>342 rows × 5 columns</p>\n",
       "</div>"
      ],
      "text/plain": [
       "        id            city                      name address outlets_clean\n",
       "2        3  Ростов-на-Дону            абасян а.п. ип   он же          None\n",
       "3        4  Ростов-на-Дону  азатян н,с. ип ул. ленин   он же          None\n",
       "4        5  Ростов-на-Дону                айдин в.я.   он же          None\n",
       "6        7  Ростов-на-Дону           алексеев л п ип   он же          None\n",
       "8        9  Ростов-на-Дону            алпатов в в ип   он же          None\n",
       "...    ...             ...                       ...     ...           ...\n",
       "1025  1026  Ростов-на-Дону           яковлев а.в. ип   он же          None\n",
       "1026  1027  Ростов-на-Дону          якубенко м.с. ип   он же          None\n",
       "1027  1028  Ростов-на-Дону          ярмоновый н.г.ип   он же          None\n",
       "1029  1030  Ростов-на-Дону  яров в.т. ип м-н \"весна\"   он же          None\n",
       "1030  1031  Ростов-на-Дону              яхон б.а. ип   он же          None\n",
       "\n",
       "[342 rows x 5 columns]"
      ]
     },
     "execution_count": 19,
     "metadata": {},
     "output_type": "execute_result"
    }
   ],
   "source": [
    "filter = df_outline['address'] == 'он же'\n",
    "df_outline[filter]   "
   ]
  },
  {
   "cell_type": "code",
   "execution_count": 20,
   "id": "3e12b98e",
   "metadata": {
    "scrolled": true
   },
   "outputs": [],
   "source": [
    "df_outline = df_outline.sort_values(by='id')"
   ]
  },
  {
   "cell_type": "markdown",
   "id": "b3875bbb",
   "metadata": {},
   "source": [
    "В таком случае считаем что адрес \"он же\" после \"-\" - не индифицирован. Потому что не ясно к какому адресу относится."
   ]
  },
  {
   "cell_type": "code",
   "execution_count": 21,
   "id": "ac8164ba",
   "metadata": {},
   "outputs": [],
   "source": [
    "df = df_outline.copy()"
   ]
  },
  {
   "cell_type": "code",
   "execution_count": 22,
   "id": "9d8150b4",
   "metadata": {
    "scrolled": true
   },
   "outputs": [],
   "source": [
    "for i in range(len(df.index)):\n",
    "    if df.loc[i]['address'] == 'он же':\n",
    "        df.loc[i, 'address'] = df.loc[i-1, 'address']        "
   ]
  },
  {
   "cell_type": "markdown",
   "id": "9158d01c",
   "metadata": {},
   "source": [
    "Отсортируем и проиндексируем уникальные значения."
   ]
  },
  {
   "cell_type": "code",
   "execution_count": 23,
   "id": "8c7e9341",
   "metadata": {},
   "outputs": [],
   "source": [
    "df = df.sort_values(by=['name'])"
   ]
  },
  {
   "cell_type": "markdown",
   "id": "108d6a2f",
   "metadata": {},
   "source": [
    "Для глубокого  нахождения дубликатов воспользуемся сторонней библиотекой https://github.com/Lyonk71/pandas-dedupe. Здесб используется обучаемая с учителем нейросеть для поиска дубликатов. В задании указано что поиск дубликатов должен происходить по названию торговых точек. "
   ]
  },
  {
   "cell_type": "code",
   "execution_count": null,
   "id": "ebb650b1",
   "metadata": {
    "scrolled": true
   },
   "outputs": [],
   "source": [
    "#!pip install git+https://github.com/Lyonk71/pandas-dedupe.git"
   ]
  },
  {
   "cell_type": "code",
   "execution_count": 24,
   "id": "e3ae0a1c",
   "metadata": {},
   "outputs": [],
   "source": [
    "import pandas_dedupe "
   ]
  },
  {
   "cell_type": "code",
   "execution_count": 25,
   "id": "3b6bf326",
   "metadata": {
    "scrolled": true
   },
   "outputs": [
    {
     "name": "stdout",
     "output_type": "stream",
     "text": [
      "Importing data ...\n"
     ]
    },
    {
     "name": "stderr",
     "output_type": "stream",
     "text": [
      "C:\\Users\\sveto\\AppData\\Local\\Temp\\ipykernel_2728\\3718420957.py:1: FutureWarning: The default value of regex will change from True to False in a future version.\n",
      "  df_final = pandas_dedupe.dedupe_dataframe(df,['name'])\n"
     ]
    },
    {
     "name": "stdout",
     "output_type": "stream",
     "text": [
      "Reading from dedupe_dataframe_learned_settings\n",
      "Clustering...\n",
      "# duplicate sets 11518\n"
     ]
    }
   ],
   "source": [
    "df_final = pandas_dedupe.dedupe_dataframe(df,['name'])"
   ]
  },
  {
   "cell_type": "code",
   "execution_count": 26,
   "id": "85f9ee1b",
   "metadata": {
    "scrolled": true
   },
   "outputs": [
    {
     "data": {
      "text/html": [
       "<div>\n",
       "<style scoped>\n",
       "    .dataframe tbody tr th:only-of-type {\n",
       "        vertical-align: middle;\n",
       "    }\n",
       "\n",
       "    .dataframe tbody tr th {\n",
       "        vertical-align: top;\n",
       "    }\n",
       "\n",
       "    .dataframe thead th {\n",
       "        text-align: right;\n",
       "    }\n",
       "</style>\n",
       "<table border=\"1\" class=\"dataframe\">\n",
       "  <thead>\n",
       "    <tr style=\"text-align: right;\">\n",
       "      <th></th>\n",
       "      <th>id</th>\n",
       "      <th>city</th>\n",
       "      <th>name</th>\n",
       "      <th>address</th>\n",
       "      <th>outlets_clean</th>\n",
       "      <th>cluster id</th>\n",
       "      <th>confidence</th>\n",
       "    </tr>\n",
       "  </thead>\n",
       "  <tbody>\n",
       "    <tr>\n",
       "      <th>0</th>\n",
       "      <td>1</td>\n",
       "      <td>rostov-na-donu</td>\n",
       "      <td>ip gavril s.a.</td>\n",
       "      <td>p.glubokii, ul.artiom 44</td>\n",
       "      <td>None</td>\n",
       "      <td>2035</td>\n",
       "      <td>0.797475</td>\n",
       "    </tr>\n",
       "    <tr>\n",
       "      <th>9</th>\n",
       "      <td>10</td>\n",
       "      <td>rostov-na-donu</td>\n",
       "      <td>alpatov v v ip</td>\n",
       "      <td>ul gvardeiskii 34-a</td>\n",
       "      <td>None</td>\n",
       "      <td>5033</td>\n",
       "      <td>1.000000</td>\n",
       "    </tr>\n",
       "    <tr>\n",
       "      <th>99</th>\n",
       "      <td>100</td>\n",
       "      <td>rostov-na-donu</td>\n",
       "      <td>grigorian sh.g.</td>\n",
       "      <td>g. rostov-na-donu ul. ts. kunnikova 8b</td>\n",
       "      <td>None</td>\n",
       "      <td>321</td>\n",
       "      <td>0.727990</td>\n",
       "    </tr>\n",
       "    <tr>\n",
       "      <th>999</th>\n",
       "      <td>1000</td>\n",
       "      <td>rostov-na-donu</td>\n",
       "      <td>kholodenko i.v.ip m-n eva</td>\n",
       "      <td>-</td>\n",
       "      <td>None</td>\n",
       "      <td>366</td>\n",
       "      <td>0.641944</td>\n",
       "    </tr>\n",
       "    <tr>\n",
       "      <th>9999</th>\n",
       "      <td>10000</td>\n",
       "      <td>rostov-na-donu</td>\n",
       "      <td>pavlov n.i. ip, gukovo</td>\n",
       "      <td>-</td>\n",
       "      <td>None</td>\n",
       "      <td>2354</td>\n",
       "      <td>0.705073</td>\n",
       "    </tr>\n",
       "    <tr>\n",
       "      <th>...</th>\n",
       "      <td>...</td>\n",
       "      <td>...</td>\n",
       "      <td>...</td>\n",
       "      <td>...</td>\n",
       "      <td>...</td>\n",
       "      <td>...</td>\n",
       "      <td>...</td>\n",
       "    </tr>\n",
       "    <tr>\n",
       "      <th>9994</th>\n",
       "      <td>9995</td>\n",
       "      <td>rostov-na-donu</td>\n",
       "      <td>pavlenko a.v. ip (kagal'nits.r-n) 4, m.batai</td>\n",
       "      <td>-</td>\n",
       "      <td>None</td>\n",
       "      <td>1190</td>\n",
       "      <td>0.788261</td>\n",
       "    </tr>\n",
       "    <tr>\n",
       "      <th>9995</th>\n",
       "      <td>9996</td>\n",
       "      <td>rostov-na-donu</td>\n",
       "      <td>pavlenko a.v. ip (kagal'nits.r-n) 5</td>\n",
       "      <td>-</td>\n",
       "      <td>None</td>\n",
       "      <td>1190</td>\n",
       "      <td>0.792105</td>\n",
       "    </tr>\n",
       "    <tr>\n",
       "      <th>9996</th>\n",
       "      <td>9997</td>\n",
       "      <td>rostov-na-donu</td>\n",
       "      <td>pavlov n i ip</td>\n",
       "      <td>-</td>\n",
       "      <td>None</td>\n",
       "      <td>2355</td>\n",
       "      <td>0.899337</td>\n",
       "    </tr>\n",
       "    <tr>\n",
       "      <th>9997</th>\n",
       "      <td>9998</td>\n",
       "      <td>rostov-na-donu</td>\n",
       "      <td>pavlov n.i. ip</td>\n",
       "      <td>-</td>\n",
       "      <td>None</td>\n",
       "      <td>2354</td>\n",
       "      <td>0.748016</td>\n",
       "    </tr>\n",
       "    <tr>\n",
       "      <th>9998</th>\n",
       "      <td>9999</td>\n",
       "      <td>rostov-na-donu</td>\n",
       "      <td>pavlov n.i. ip</td>\n",
       "      <td>g.rostov/don kosmonavt 5g</td>\n",
       "      <td>None</td>\n",
       "      <td>2356</td>\n",
       "      <td>0.516177</td>\n",
       "    </tr>\n",
       "  </tbody>\n",
       "</table>\n",
       "<p>20208 rows × 7 columns</p>\n",
       "</div>"
      ],
      "text/plain": [
       "         id            city                                          name  \\\n",
       "0         1  rostov-na-donu                                ip gavril s.a.   \n",
       "9        10  rostov-na-donu                                alpatov v v ip   \n",
       "99      100  rostov-na-donu                               grigorian sh.g.   \n",
       "999    1000  rostov-na-donu                     kholodenko i.v.ip m-n eva   \n",
       "9999  10000  rostov-na-donu                        pavlov n.i. ip, gukovo   \n",
       "...     ...             ...                                           ...   \n",
       "9994   9995  rostov-na-donu  pavlenko a.v. ip (kagal'nits.r-n) 4, m.batai   \n",
       "9995   9996  rostov-na-donu           pavlenko a.v. ip (kagal'nits.r-n) 5   \n",
       "9996   9997  rostov-na-donu                                 pavlov n i ip   \n",
       "9997   9998  rostov-na-donu                                pavlov n.i. ip   \n",
       "9998   9999  rostov-na-donu                                pavlov n.i. ip   \n",
       "\n",
       "                                     address outlets_clean  cluster id  \\\n",
       "0                   p.glubokii, ul.artiom 44          None        2035   \n",
       "9                        ul gvardeiskii 34-a          None        5033   \n",
       "99    g. rostov-na-donu ul. ts. kunnikova 8b          None         321   \n",
       "999                                        -          None         366   \n",
       "9999                                       -          None        2354   \n",
       "...                                      ...           ...         ...   \n",
       "9994                                       -          None        1190   \n",
       "9995                                       -          None        1190   \n",
       "9996                                       -          None        2355   \n",
       "9997                                       -          None        2354   \n",
       "9998               g.rostov/don kosmonavt 5g          None        2356   \n",
       "\n",
       "      confidence  \n",
       "0       0.797475  \n",
       "9       1.000000  \n",
       "99      0.727990  \n",
       "999     0.641944  \n",
       "9999    0.705073  \n",
       "...          ...  \n",
       "9994    0.788261  \n",
       "9995    0.792105  \n",
       "9996    0.899337  \n",
       "9997    0.748016  \n",
       "9998    0.516177  \n",
       "\n",
       "[20208 rows x 7 columns]"
      ]
     },
     "execution_count": 26,
     "metadata": {},
     "output_type": "execute_result"
    }
   ],
   "source": [
    "df_final.sort_values(by='id')"
   ]
  },
  {
   "cell_type": "code",
   "execution_count": 27,
   "id": "c374c3d9",
   "metadata": {
    "scrolled": true
   },
   "outputs": [],
   "source": [
    "df_final = df_final.astype({'id': int})"
   ]
  },
  {
   "cell_type": "markdown",
   "id": "9e682606",
   "metadata": {},
   "source": [
    "Теперь присоединим эту таблицу по айдишникам к исходной таблице."
   ]
  },
  {
   "cell_type": "code",
   "execution_count": 28,
   "id": "3e5e92a0",
   "metadata": {
    "scrolled": true
   },
   "outputs": [],
   "source": [
    "df_outline = df_outline.merge(df_final[['id', 'cluster id']], on='id')"
   ]
  },
  {
   "cell_type": "code",
   "execution_count": 29,
   "id": "815bd0c3",
   "metadata": {
    "scrolled": true
   },
   "outputs": [],
   "source": [
    "df_outline = df_outline.drop(columns='outlets_clean', axis=1)"
   ]
  },
  {
   "cell_type": "code",
   "execution_count": 30,
   "id": "cd117ce2",
   "metadata": {},
   "outputs": [],
   "source": [
    "df_outline.rename(columns={'city' : 'Город дистрибьютора'\n",
    "                  , 'name' : 'Торг_точка_грязная'\n",
    "                  , 'address' : 'Торг_точка_грязная_адрес'\n",
    "                  , 'cluster id' : 'outlet_clean_id'}, inplace=True)"
   ]
  },
  {
   "cell_type": "code",
   "execution_count": 31,
   "id": "d1b5a6fc",
   "metadata": {
    "scrolled": true
   },
   "outputs": [
    {
     "data": {
      "text/html": [
       "<div>\n",
       "<style scoped>\n",
       "    .dataframe tbody tr th:only-of-type {\n",
       "        vertical-align: middle;\n",
       "    }\n",
       "\n",
       "    .dataframe tbody tr th {\n",
       "        vertical-align: top;\n",
       "    }\n",
       "\n",
       "    .dataframe thead th {\n",
       "        text-align: right;\n",
       "    }\n",
       "</style>\n",
       "<table border=\"1\" class=\"dataframe\">\n",
       "  <thead>\n",
       "    <tr style=\"text-align: right;\">\n",
       "      <th></th>\n",
       "      <th>id</th>\n",
       "      <th>Город дистрибьютора</th>\n",
       "      <th>Торг_точка_грязная</th>\n",
       "      <th>Торг_точка_грязная_адрес</th>\n",
       "      <th>outlet_clean_id</th>\n",
       "    </tr>\n",
       "  </thead>\n",
       "  <tbody>\n",
       "    <tr>\n",
       "      <th>0</th>\n",
       "      <td>1</td>\n",
       "      <td>Ростов-на-Дону</td>\n",
       "      <td>ип гаврил с.а.</td>\n",
       "      <td>п.глубокий, ул.артём 44</td>\n",
       "      <td>2035</td>\n",
       "    </tr>\n",
       "    <tr>\n",
       "      <th>1</th>\n",
       "      <td>2</td>\n",
       "      <td>Ростов-на-Дону</td>\n",
       "      <td>ип малышев</td>\n",
       "      <td>-</td>\n",
       "      <td>2036</td>\n",
       "    </tr>\n",
       "    <tr>\n",
       "      <th>2</th>\n",
       "      <td>3</td>\n",
       "      <td>Ростов-на-Дону</td>\n",
       "      <td>абасян а.п. ип</td>\n",
       "      <td>он же</td>\n",
       "      <td>2038</td>\n",
       "    </tr>\n",
       "    <tr>\n",
       "      <th>3</th>\n",
       "      <td>4</td>\n",
       "      <td>Ростов-на-Дону</td>\n",
       "      <td>азатян н,с. ип ул. ленин</td>\n",
       "      <td>он же</td>\n",
       "      <td>315</td>\n",
       "    </tr>\n",
       "    <tr>\n",
       "      <th>4</th>\n",
       "      <td>5</td>\n",
       "      <td>Ростов-на-Дону</td>\n",
       "      <td>айдин в.я.</td>\n",
       "      <td>он же</td>\n",
       "      <td>5030</td>\n",
       "    </tr>\n",
       "    <tr>\n",
       "      <th>...</th>\n",
       "      <td>...</td>\n",
       "      <td>...</td>\n",
       "      <td>...</td>\n",
       "      <td>...</td>\n",
       "      <td>...</td>\n",
       "    </tr>\n",
       "    <tr>\n",
       "      <th>20203</th>\n",
       "      <td>20204</td>\n",
       "      <td>Ростов-на-Дону</td>\n",
       "      <td>яров а.т.ип</td>\n",
       "      <td>346535, ростовский обл, шахта г, кошевой ул, д...</td>\n",
       "      <td>2644</td>\n",
       "    </tr>\n",
       "    <tr>\n",
       "      <th>20204</th>\n",
       "      <td>20205</td>\n",
       "      <td>Ростов-на-Дону</td>\n",
       "      <td>яров в.т. ип м-н \"весна\"</td>\n",
       "      <td>-</td>\n",
       "      <td>2645</td>\n",
       "    </tr>\n",
       "    <tr>\n",
       "      <th>20205</th>\n",
       "      <td>20206</td>\n",
       "      <td>Ростов-на-Дону</td>\n",
       "      <td>ярута с.м. ип</td>\n",
       "      <td>347332, ростовский область, волгодонский р-н, ...</td>\n",
       "      <td>2025</td>\n",
       "    </tr>\n",
       "    <tr>\n",
       "      <th>20206</th>\n",
       "      <td>20207</td>\n",
       "      <td>Ростов-на-Дону</td>\n",
       "      <td>яхон б.а. ип</td>\n",
       "      <td>346380, ростовский обл, красносулинский р-н, л...</td>\n",
       "      <td>2646</td>\n",
       "    </tr>\n",
       "    <tr>\n",
       "      <th>20207</th>\n",
       "      <td>20208</td>\n",
       "      <td>Ростов-на-Дону</td>\n",
       "      <td>яцкевич е.ю.ип</td>\n",
       "      <td>344002, ростовский обл, ростов-на-дону г, шосс...</td>\n",
       "      <td>11517</td>\n",
       "    </tr>\n",
       "  </tbody>\n",
       "</table>\n",
       "<p>20208 rows × 5 columns</p>\n",
       "</div>"
      ],
      "text/plain": [
       "          id Город дистрибьютора        Торг_точка_грязная  \\\n",
       "0          1      Ростов-на-Дону            ип гаврил с.а.   \n",
       "1          2      Ростов-на-Дону                ип малышев   \n",
       "2          3      Ростов-на-Дону            абасян а.п. ип   \n",
       "3          4      Ростов-на-Дону  азатян н,с. ип ул. ленин   \n",
       "4          5      Ростов-на-Дону                айдин в.я.   \n",
       "...      ...                 ...                       ...   \n",
       "20203  20204      Ростов-на-Дону               яров а.т.ип   \n",
       "20204  20205      Ростов-на-Дону  яров в.т. ип м-н \"весна\"   \n",
       "20205  20206      Ростов-на-Дону             ярута с.м. ип   \n",
       "20206  20207      Ростов-на-Дону              яхон б.а. ип   \n",
       "20207  20208      Ростов-на-Дону            яцкевич е.ю.ип   \n",
       "\n",
       "                                Торг_точка_грязная_адрес  outlet_clean_id  \n",
       "0                                п.глубокий, ул.артём 44             2035  \n",
       "1                                                      -             2036  \n",
       "2                                                  он же             2038  \n",
       "3                                                  он же              315  \n",
       "4                                                  он же             5030  \n",
       "...                                                  ...              ...  \n",
       "20203  346535, ростовский обл, шахта г, кошевой ул, д...             2644  \n",
       "20204                                                  -             2645  \n",
       "20205  347332, ростовский область, волгодонский р-н, ...             2025  \n",
       "20206  346380, ростовский обл, красносулинский р-н, л...             2646  \n",
       "20207  344002, ростовский обл, ростов-на-дону г, шосс...            11517  \n",
       "\n",
       "[20208 rows x 5 columns]"
      ]
     },
     "execution_count": 31,
     "metadata": {},
     "output_type": "execute_result"
    }
   ],
   "source": [
    "df_outline"
   ]
  },
  {
   "cell_type": "code",
   "execution_count": 33,
   "id": "3099aafc",
   "metadata": {},
   "outputs": [],
   "source": [
    "for i in range(len(df_outline.index)):\n",
    "    if df_outline.loc[i]['Торг_точка_грязная_адрес'] == 'он же':\n",
    "        df_outline.loc[i, 'Торг_точка_грязная_адрес'] = df_outline.loc[i-1, 'Торг_точка_грязная_адрес']    "
   ]
  },
  {
   "cell_type": "code",
   "execution_count": 34,
   "id": "9361e05a",
   "metadata": {
    "scrolled": true
   },
   "outputs": [],
   "source": [
    "outlets_clean = df_final.sort_values(by='id').pivot_table(index='cluster id', values='id', aggfunc='first').reset_index()"
   ]
  },
  {
   "cell_type": "code",
   "execution_count": 35,
   "id": "130cc7b3",
   "metadata": {
    "scrolled": false
   },
   "outputs": [],
   "source": [
    "outlets_clean = outlets_clean.merge(df_outline[['Торг_точка_грязная_адрес', 'id']], on='id' )"
   ]
  },
  {
   "cell_type": "code",
   "execution_count": 36,
   "id": "a2090538",
   "metadata": {},
   "outputs": [],
   "source": [
    "outlets_clean.drop(columns='id', axis=1, inplace=True)"
   ]
  },
  {
   "cell_type": "code",
   "execution_count": 37,
   "id": "588a953f",
   "metadata": {},
   "outputs": [],
   "source": [
    "outlets_clean = outlets_clean.rename(columns={'cluster id' : 'id', 'Торг_точка_грязная_адрес' : 'Торг_точка_чистый_адрес'})"
   ]
  },
  {
   "cell_type": "code",
   "execution_count": 38,
   "id": "437434e6",
   "metadata": {},
   "outputs": [
    {
     "data": {
      "text/html": [
       "<div>\n",
       "<style scoped>\n",
       "    .dataframe tbody tr th:only-of-type {\n",
       "        vertical-align: middle;\n",
       "    }\n",
       "\n",
       "    .dataframe tbody tr th {\n",
       "        vertical-align: top;\n",
       "    }\n",
       "\n",
       "    .dataframe thead th {\n",
       "        text-align: right;\n",
       "    }\n",
       "</style>\n",
       "<table border=\"1\" class=\"dataframe\">\n",
       "  <thead>\n",
       "    <tr style=\"text-align: right;\">\n",
       "      <th></th>\n",
       "      <th>id</th>\n",
       "      <th>Город дистрибьютора</th>\n",
       "      <th>Торг_точка_грязная</th>\n",
       "      <th>Торг_точка_грязная_адрес</th>\n",
       "      <th>outlet_clean_id</th>\n",
       "    </tr>\n",
       "  </thead>\n",
       "  <tbody>\n",
       "    <tr>\n",
       "      <th>4251</th>\n",
       "      <td>4252</td>\n",
       "      <td>Ростов-на-Дону</td>\n",
       "      <td>семя дон зао /2</td>\n",
       "      <td>-</td>\n",
       "      <td>0</td>\n",
       "    </tr>\n",
       "    <tr>\n",
       "      <th>4252</th>\n",
       "      <td>4253</td>\n",
       "      <td>Ростов-на-Дону</td>\n",
       "      <td>семя дон зао</td>\n",
       "      <td>-</td>\n",
       "      <td>0</td>\n",
       "    </tr>\n",
       "    <tr>\n",
       "      <th>15722</th>\n",
       "      <td>15723</td>\n",
       "      <td>Ростов-на-Дону</td>\n",
       "      <td>семя дон зао нпф ул. красный</td>\n",
       "      <td>344002, ростовский обл, ростов-на-дону г, будё...</td>\n",
       "      <td>1</td>\n",
       "    </tr>\n",
       "    <tr>\n",
       "      <th>15721</th>\n",
       "      <td>15722</td>\n",
       "      <td>Ростов-на-Дону</td>\n",
       "      <td>семя дон зао нпф ул. красный</td>\n",
       "      <td>-</td>\n",
       "      <td>1</td>\n",
       "    </tr>\n",
       "    <tr>\n",
       "      <th>4273</th>\n",
       "      <td>4274</td>\n",
       "      <td>Ростов-на-Дону</td>\n",
       "      <td>серикова н.м. ип\\к.лучко</td>\n",
       "      <td>г.краснодар ул.клара лучко 6</td>\n",
       "      <td>2</td>\n",
       "    </tr>\n",
       "    <tr>\n",
       "      <th>...</th>\n",
       "      <td>...</td>\n",
       "      <td>...</td>\n",
       "      <td>...</td>\n",
       "      <td>...</td>\n",
       "      <td>...</td>\n",
       "    </tr>\n",
       "    <tr>\n",
       "      <th>20178</th>\n",
       "      <td>20179</td>\n",
       "      <td>Ростов-на-Дону</td>\n",
       "      <td>яковенко с.в.ип</td>\n",
       "      <td>346109, ростовский обл, миллеровский р-н, юго-...</td>\n",
       "      <td>11513</td>\n",
       "    </tr>\n",
       "    <tr>\n",
       "      <th>20183</th>\n",
       "      <td>20184</td>\n",
       "      <td>Ростов-на-Дону</td>\n",
       "      <td>яковлев ю.а.ип</td>\n",
       "      <td>346735, ростовский обл, аксайский р-н, рассвет...</td>\n",
       "      <td>11514</td>\n",
       "    </tr>\n",
       "    <tr>\n",
       "      <th>20197</th>\n",
       "      <td>20198</td>\n",
       "      <td>Ростов-на-Дону</td>\n",
       "      <td>яровой д.а. ип м-н уголёк</td>\n",
       "      <td>346535, ростовский обл, шахта г, победный ул, ...</td>\n",
       "      <td>11515</td>\n",
       "    </tr>\n",
       "    <tr>\n",
       "      <th>20202</th>\n",
       "      <td>20203</td>\n",
       "      <td>Ростов-на-Дону</td>\n",
       "      <td>яров а.н. ип ул.потаржинского,3</td>\n",
       "      <td>346500, ростовский обл, шахта г, потаржинский ...</td>\n",
       "      <td>11516</td>\n",
       "    </tr>\n",
       "    <tr>\n",
       "      <th>20207</th>\n",
       "      <td>20208</td>\n",
       "      <td>Ростов-на-Дону</td>\n",
       "      <td>яцкевич е.ю.ип</td>\n",
       "      <td>344002, ростовский обл, ростов-на-дону г, шосс...</td>\n",
       "      <td>11517</td>\n",
       "    </tr>\n",
       "  </tbody>\n",
       "</table>\n",
       "<p>20208 rows × 5 columns</p>\n",
       "</div>"
      ],
      "text/plain": [
       "          id Город дистрибьютора               Торг_точка_грязная  \\\n",
       "4251    4252      Ростов-на-Дону                  семя дон зао /2   \n",
       "4252    4253      Ростов-на-Дону                     семя дон зао   \n",
       "15722  15723      Ростов-на-Дону     семя дон зао нпф ул. красный   \n",
       "15721  15722      Ростов-на-Дону     семя дон зао нпф ул. красный   \n",
       "4273    4274      Ростов-на-Дону         серикова н.м. ип\\к.лучко   \n",
       "...      ...                 ...                              ...   \n",
       "20178  20179      Ростов-на-Дону                  яковенко с.в.ип   \n",
       "20183  20184      Ростов-на-Дону                   яковлев ю.а.ип   \n",
       "20197  20198      Ростов-на-Дону        яровой д.а. ип м-н уголёк   \n",
       "20202  20203      Ростов-на-Дону  яров а.н. ип ул.потаржинского,3   \n",
       "20207  20208      Ростов-на-Дону                   яцкевич е.ю.ип   \n",
       "\n",
       "                                Торг_точка_грязная_адрес  outlet_clean_id  \n",
       "4251                                                   -                0  \n",
       "4252                                                   -                0  \n",
       "15722  344002, ростовский обл, ростов-на-дону г, будё...                1  \n",
       "15721                                                  -                1  \n",
       "4273                        г.краснодар ул.клара лучко 6                2  \n",
       "...                                                  ...              ...  \n",
       "20178  346109, ростовский обл, миллеровский р-н, юго-...            11513  \n",
       "20183  346735, ростовский обл, аксайский р-н, рассвет...            11514  \n",
       "20197  346535, ростовский обл, шахта г, победный ул, ...            11515  \n",
       "20202  346500, ростовский обл, шахта г, потаржинский ...            11516  \n",
       "20207  344002, ростовский обл, ростов-на-дону г, шосс...            11517  \n",
       "\n",
       "[20208 rows x 5 columns]"
      ]
     },
     "execution_count": 38,
     "metadata": {},
     "output_type": "execute_result"
    }
   ],
   "source": [
    "df_outline.sort_values(by='outlet_clean_id')"
   ]
  },
  {
   "cell_type": "code",
   "execution_count": 40,
   "id": "4a4b48a0",
   "metadata": {},
   "outputs": [
    {
     "data": {
      "text/html": [
       "<div>\n",
       "<style scoped>\n",
       "    .dataframe tbody tr th:only-of-type {\n",
       "        vertical-align: middle;\n",
       "    }\n",
       "\n",
       "    .dataframe tbody tr th {\n",
       "        vertical-align: top;\n",
       "    }\n",
       "\n",
       "    .dataframe thead th {\n",
       "        text-align: right;\n",
       "    }\n",
       "</style>\n",
       "<table border=\"1\" class=\"dataframe\">\n",
       "  <thead>\n",
       "    <tr style=\"text-align: right;\">\n",
       "      <th></th>\n",
       "      <th>id</th>\n",
       "      <th>Торг_точка_чистый_адрес</th>\n",
       "    </tr>\n",
       "  </thead>\n",
       "  <tbody>\n",
       "    <tr>\n",
       "      <th>0</th>\n",
       "      <td>0</td>\n",
       "      <td>-</td>\n",
       "    </tr>\n",
       "    <tr>\n",
       "      <th>1</th>\n",
       "      <td>1</td>\n",
       "      <td>-</td>\n",
       "    </tr>\n",
       "    <tr>\n",
       "      <th>2</th>\n",
       "      <td>2</td>\n",
       "      <td>-</td>\n",
       "    </tr>\n",
       "    <tr>\n",
       "      <th>3</th>\n",
       "      <td>3</td>\n",
       "      <td>350072 г.краснодар ул. ростовский шоссе 25/2</td>\n",
       "    </tr>\n",
       "    <tr>\n",
       "      <th>4</th>\n",
       "      <td>4</td>\n",
       "      <td>350072 г краснодар ул ростовский шоссе 25/2</td>\n",
       "    </tr>\n",
       "    <tr>\n",
       "      <th>...</th>\n",
       "      <td>...</td>\n",
       "      <td>...</td>\n",
       "    </tr>\n",
       "    <tr>\n",
       "      <th>11513</th>\n",
       "      <td>11513</td>\n",
       "      <td>346109, ростовский обл, миллеровский р-н, юго-...</td>\n",
       "    </tr>\n",
       "    <tr>\n",
       "      <th>11514</th>\n",
       "      <td>11514</td>\n",
       "      <td>346735, ростовский обл, аксайский р-н, рассвет...</td>\n",
       "    </tr>\n",
       "    <tr>\n",
       "      <th>11515</th>\n",
       "      <td>11515</td>\n",
       "      <td>346535, ростовский обл, шахта г, победный ул, ...</td>\n",
       "    </tr>\n",
       "    <tr>\n",
       "      <th>11516</th>\n",
       "      <td>11516</td>\n",
       "      <td>346500, ростовский обл, шахта г, потаржинский ...</td>\n",
       "    </tr>\n",
       "    <tr>\n",
       "      <th>11517</th>\n",
       "      <td>11517</td>\n",
       "      <td>344002, ростовский обл, ростов-на-дону г, шосс...</td>\n",
       "    </tr>\n",
       "  </tbody>\n",
       "</table>\n",
       "<p>11518 rows × 2 columns</p>\n",
       "</div>"
      ],
      "text/plain": [
       "          id                            Торг_точка_чистый_адрес\n",
       "0          0                                                  -\n",
       "1          1                                                  -\n",
       "2          2                                                  -\n",
       "3          3       350072 г.краснодар ул. ростовский шоссе 25/2\n",
       "4          4        350072 г краснодар ул ростовский шоссе 25/2\n",
       "...      ...                                                ...\n",
       "11513  11513  346109, ростовский обл, миллеровский р-н, юго-...\n",
       "11514  11514  346735, ростовский обл, аксайский р-н, рассвет...\n",
       "11515  11515  346535, ростовский обл, шахта г, победный ул, ...\n",
       "11516  11516  346500, ростовский обл, шахта г, потаржинский ...\n",
       "11517  11517  344002, ростовский обл, ростов-на-дону г, шосс...\n",
       "\n",
       "[11518 rows x 2 columns]"
      ]
     },
     "metadata": {},
     "output_type": "display_data"
    },
    {
     "data": {
      "text/html": [
       "<div>\n",
       "<style scoped>\n",
       "    .dataframe tbody tr th:only-of-type {\n",
       "        vertical-align: middle;\n",
       "    }\n",
       "\n",
       "    .dataframe tbody tr th {\n",
       "        vertical-align: top;\n",
       "    }\n",
       "\n",
       "    .dataframe thead th {\n",
       "        text-align: right;\n",
       "    }\n",
       "</style>\n",
       "<table border=\"1\" class=\"dataframe\">\n",
       "  <thead>\n",
       "    <tr style=\"text-align: right;\">\n",
       "      <th></th>\n",
       "      <th>id</th>\n",
       "      <th>Город дистрибьютора</th>\n",
       "      <th>Торг_точка_грязная</th>\n",
       "      <th>Торг_точка_грязная_адрес</th>\n",
       "      <th>outlet_clean_id</th>\n",
       "    </tr>\n",
       "  </thead>\n",
       "  <tbody>\n",
       "    <tr>\n",
       "      <th>0</th>\n",
       "      <td>1</td>\n",
       "      <td>Ростов-на-Дону</td>\n",
       "      <td>ип гаврил с.а.</td>\n",
       "      <td>п.глубокий, ул.артём 44</td>\n",
       "      <td>2035</td>\n",
       "    </tr>\n",
       "    <tr>\n",
       "      <th>1</th>\n",
       "      <td>2</td>\n",
       "      <td>Ростов-на-Дону</td>\n",
       "      <td>ип малышев</td>\n",
       "      <td>-</td>\n",
       "      <td>2036</td>\n",
       "    </tr>\n",
       "    <tr>\n",
       "      <th>2</th>\n",
       "      <td>3</td>\n",
       "      <td>Ростов-на-Дону</td>\n",
       "      <td>абасян а.п. ип</td>\n",
       "      <td>-</td>\n",
       "      <td>2038</td>\n",
       "    </tr>\n",
       "    <tr>\n",
       "      <th>3</th>\n",
       "      <td>4</td>\n",
       "      <td>Ростов-на-Дону</td>\n",
       "      <td>азатян н,с. ип ул. ленин</td>\n",
       "      <td>-</td>\n",
       "      <td>315</td>\n",
       "    </tr>\n",
       "    <tr>\n",
       "      <th>4</th>\n",
       "      <td>5</td>\n",
       "      <td>Ростов-на-Дону</td>\n",
       "      <td>айдин в.я.</td>\n",
       "      <td>-</td>\n",
       "      <td>5030</td>\n",
       "    </tr>\n",
       "    <tr>\n",
       "      <th>...</th>\n",
       "      <td>...</td>\n",
       "      <td>...</td>\n",
       "      <td>...</td>\n",
       "      <td>...</td>\n",
       "      <td>...</td>\n",
       "    </tr>\n",
       "    <tr>\n",
       "      <th>20203</th>\n",
       "      <td>20204</td>\n",
       "      <td>Ростов-на-Дону</td>\n",
       "      <td>яров а.т.ип</td>\n",
       "      <td>346535, ростовский обл, шахта г, кошевой ул, д...</td>\n",
       "      <td>2644</td>\n",
       "    </tr>\n",
       "    <tr>\n",
       "      <th>20204</th>\n",
       "      <td>20205</td>\n",
       "      <td>Ростов-на-Дону</td>\n",
       "      <td>яров в.т. ип м-н \"весна\"</td>\n",
       "      <td>-</td>\n",
       "      <td>2645</td>\n",
       "    </tr>\n",
       "    <tr>\n",
       "      <th>20205</th>\n",
       "      <td>20206</td>\n",
       "      <td>Ростов-на-Дону</td>\n",
       "      <td>ярута с.м. ип</td>\n",
       "      <td>347332, ростовский область, волгодонский р-н, ...</td>\n",
       "      <td>2025</td>\n",
       "    </tr>\n",
       "    <tr>\n",
       "      <th>20206</th>\n",
       "      <td>20207</td>\n",
       "      <td>Ростов-на-Дону</td>\n",
       "      <td>яхон б.а. ип</td>\n",
       "      <td>346380, ростовский обл, красносулинский р-н, л...</td>\n",
       "      <td>2646</td>\n",
       "    </tr>\n",
       "    <tr>\n",
       "      <th>20207</th>\n",
       "      <td>20208</td>\n",
       "      <td>Ростов-на-Дону</td>\n",
       "      <td>яцкевич е.ю.ип</td>\n",
       "      <td>344002, ростовский обл, ростов-на-дону г, шосс...</td>\n",
       "      <td>11517</td>\n",
       "    </tr>\n",
       "  </tbody>\n",
       "</table>\n",
       "<p>20208 rows × 5 columns</p>\n",
       "</div>"
      ],
      "text/plain": [
       "          id Город дистрибьютора        Торг_точка_грязная  \\\n",
       "0          1      Ростов-на-Дону            ип гаврил с.а.   \n",
       "1          2      Ростов-на-Дону                ип малышев   \n",
       "2          3      Ростов-на-Дону            абасян а.п. ип   \n",
       "3          4      Ростов-на-Дону  азатян н,с. ип ул. ленин   \n",
       "4          5      Ростов-на-Дону                айдин в.я.   \n",
       "...      ...                 ...                       ...   \n",
       "20203  20204      Ростов-на-Дону               яров а.т.ип   \n",
       "20204  20205      Ростов-на-Дону  яров в.т. ип м-н \"весна\"   \n",
       "20205  20206      Ростов-на-Дону             ярута с.м. ип   \n",
       "20206  20207      Ростов-на-Дону              яхон б.а. ип   \n",
       "20207  20208      Ростов-на-Дону            яцкевич е.ю.ип   \n",
       "\n",
       "                                Торг_точка_грязная_адрес  outlet_clean_id  \n",
       "0                                п.глубокий, ул.артём 44             2035  \n",
       "1                                                      -             2036  \n",
       "2                                                      -             2038  \n",
       "3                                                      -              315  \n",
       "4                                                      -             5030  \n",
       "...                                                  ...              ...  \n",
       "20203  346535, ростовский обл, шахта г, кошевой ул, д...             2644  \n",
       "20204                                                  -             2645  \n",
       "20205  347332, ростовский область, волгодонский р-н, ...             2025  \n",
       "20206  346380, ростовский обл, красносулинский р-н, л...             2646  \n",
       "20207  344002, ростовский обл, ростов-на-дону г, шосс...            11517  \n",
       "\n",
       "[20208 rows x 5 columns]"
      ]
     },
     "execution_count": 40,
     "metadata": {},
     "output_type": "execute_result"
    }
   ],
   "source": [
    "display(outlets_clean)\n",
    "df_outline.sort_values(by='id')"
   ]
  },
  {
   "cell_type": "markdown",
   "id": "e3e9ad4d",
   "metadata": {},
   "source": [
    "Обе таблички готовы. Осталось, согласно задания, записать их в базу данных."
   ]
  },
  {
   "cell_type": "code",
   "execution_count": 42,
   "id": "49e24564",
   "metadata": {},
   "outputs": [],
   "source": [
    "insert_reviewers_query = \"\"\"\n",
    "INSERT INTO outlets_clean\n",
    "(id,Торг_точка_чистый_адрес )\n",
    "VALUES ( %s, %s )\n",
    "\"\"\"\n",
    "reviewers_records = tuple(outlets_clean.itertuples(index=False, name=None))\n",
    "\n",
    "with connection.cursor() as cursor:\n",
    "    cursor.executemany(insert_reviewers_query,\n",
    "                       reviewers_records)\n",
    "    connection.commit()"
   ]
  },
  {
   "cell_type": "code",
   "execution_count": 55,
   "id": "0b139fd1",
   "metadata": {
    "scrolled": true
   },
   "outputs": [],
   "source": [
    "outlets_id = []\n",
    "df_outlines = df_outline.sort_values(by='id')\n",
    "for i in df_outline['outlet_clean_id']:\n",
    "    temp_list =[i]\n",
    "    outlets_id.append(temp_list)"
   ]
  },
  {
   "cell_type": "code",
   "execution_count": 61,
   "id": "014252fe",
   "metadata": {
    "scrolled": true
   },
   "outputs": [],
   "source": [
    "df_outline.to_csv('111.csv')"
   ]
  },
  {
   "cell_type": "code",
   "execution_count": 64,
   "id": "06afe348",
   "metadata": {
    "scrolled": true
   },
   "outputs": [],
   "source": [
    "insert_reviewers_query = \"\"\"\n",
    "INSERT INTO outlets\n",
    "(outlet_clean_id )\n",
    "VALUES ( %s)\n",
    "\"\"\"\n",
    "reviewers_records = outlets_id\n",
    "\n",
    "with connection.cursor() as cursor:\n",
    "    cursor.executemany(insert_reviewers_query,\n",
    "                       reviewers_records)\n",
    "    connection.commit()"
   ]
  },
  {
   "cell_type": "markdown",
   "id": "40d26278",
   "metadata": {},
   "source": [
    "Вот как-то так."
   ]
  }
 ],
 "metadata": {
  "kernelspec": {
   "display_name": "Python 3 (ipykernel)",
   "language": "python",
   "name": "python3"
  },
  "language_info": {
   "codemirror_mode": {
    "name": "ipython",
    "version": 3
   },
   "file_extension": ".py",
   "mimetype": "text/x-python",
   "name": "python",
   "nbconvert_exporter": "python",
   "pygments_lexer": "ipython3",
   "version": "3.9.7"
  },
  "toc": {
   "base_numbering": 1,
   "nav_menu": {},
   "number_sections": true,
   "sideBar": true,
   "skip_h1_title": false,
   "title_cell": "Table of Contents",
   "title_sidebar": "Contents",
   "toc_cell": false,
   "toc_position": {},
   "toc_section_display": true,
   "toc_window_display": false
  }
 },
 "nbformat": 4,
 "nbformat_minor": 5
}
